{
  "cells": [
    {
      "cell_type": "code",
      "execution_count": null,
      "metadata": {
        "colab": {
          "base_uri": "https://localhost:8080/"
        },
        "id": "BRwwE0iP8CbY",
        "outputId": "d3323eae-3131-47e0-e9f5-e48d6e112d42"
      },
      "outputs": [
        {
          "name": "stdout",
          "output_type": "stream",
          "text": [
            "Collecting firebase\n",
            "  Downloading firebase-4.0.1-py3-none-any.whl.metadata (6.5 kB)\n",
            "Requirement already satisfied: requests in /usr/local/lib/python3.10/dist-packages (from firebase) (2.32.3)\n",
            "Requirement already satisfied: charset-normalizer<4,>=2 in /usr/local/lib/python3.10/dist-packages (from requests->firebase) (3.4.0)\n",
            "Requirement already satisfied: idna<4,>=2.5 in /usr/local/lib/python3.10/dist-packages (from requests->firebase) (3.10)\n",
            "Requirement already satisfied: urllib3<3,>=1.21.1 in /usr/local/lib/python3.10/dist-packages (from requests->firebase) (2.2.3)\n",
            "Requirement already satisfied: certifi>=2017.4.17 in /usr/local/lib/python3.10/dist-packages (from requests->firebase) (2024.8.30)\n",
            "Downloading firebase-4.0.1-py3-none-any.whl (12 kB)\n",
            "Installing collected packages: firebase\n",
            "Successfully installed firebase-4.0.1\n"
          ]
        }
      ],
      "source": [
        "!pip install firebase\n"
      ]
    },
    {
      "cell_type": "code",
      "execution_count": null,
      "metadata": {
        "id": "IjPtqKbRmvlH"
      },
      "outputs": [],
      "source": []
    },
    {
      "cell_type": "code",
      "execution_count": null,
      "metadata": {
        "colab": {
          "base_uri": "https://localhost:8080/",
          "height": 356
        },
        "id": "IGADLGVm743R",
        "outputId": "2fff98c1-ed7c-4e64-d5cb-c5a1e839f507"
      },
      "outputs": [
        {
          "ename": "KeyboardInterrupt",
          "evalue": "Interrupted by user",
          "output_type": "error",
          "traceback": [
            "\u001b[0;31m---------------------------------------------------------------------------\u001b[0m",
            "\u001b[0;31mKeyboardInterrupt\u001b[0m                         Traceback (most recent call last)",
            "\u001b[0;32m<ipython-input-5-c6637b7045bc>\u001b[0m in \u001b[0;36m<cell line: 3>\u001b[0;34m()\u001b[0m\n\u001b[1;32m      2\u001b[0m \u001b[0mFBconn\u001b[0m \u001b[0;34m=\u001b[0m \u001b[0mfirebase\u001b[0m\u001b[0;34m.\u001b[0m\u001b[0mFirebaseApplication\u001b[0m\u001b[0;34m(\u001b[0m\u001b[0;34m'https://test1-8bc2b-default-rtdb.europe-west1.firebasedatabase.app'\u001b[0m\u001b[0;34m,\u001b[0m\u001b[0;32mNone\u001b[0m\u001b[0;34m)\u001b[0m\u001b[0;34m\u001b[0m\u001b[0;34m\u001b[0m\u001b[0m\n\u001b[1;32m      3\u001b[0m \u001b[0;32mwhile\u001b[0m \u001b[0;32mTrue\u001b[0m\u001b[0;34m:\u001b[0m\u001b[0;34m\u001b[0m\u001b[0;34m\u001b[0m\u001b[0m\n\u001b[0;32m----> 4\u001b[0;31m   \u001b[0mtemperature\u001b[0m \u001b[0;34m=\u001b[0m \u001b[0mint\u001b[0m \u001b[0;34m(\u001b[0m\u001b[0minput\u001b[0m \u001b[0;34m(\u001b[0m\u001b[0;34m\"what is the temperature?\"\u001b[0m\u001b[0;34m)\u001b[0m\u001b[0;34m)\u001b[0m\u001b[0;34m\u001b[0m\u001b[0;34m\u001b[0m\u001b[0m\n\u001b[0m\u001b[1;32m      5\u001b[0m   data_to_upload = {\n\u001b[1;32m      6\u001b[0m       \u001b[0;34m'Temp'\u001b[0m \u001b[0;34m:\u001b[0m \u001b[0mtemperature\u001b[0m\u001b[0;34m\u001b[0m\u001b[0;34m\u001b[0m\u001b[0m\n",
            "\u001b[0;32m/usr/local/lib/python3.10/dist-packages/ipykernel/kernelbase.py\u001b[0m in \u001b[0;36mraw_input\u001b[0;34m(self, prompt)\u001b[0m\n\u001b[1;32m    849\u001b[0m                 \u001b[0;34m\"raw_input was called, but this frontend does not support input requests.\"\u001b[0m\u001b[0;34m\u001b[0m\u001b[0;34m\u001b[0m\u001b[0m\n\u001b[1;32m    850\u001b[0m             )\n\u001b[0;32m--> 851\u001b[0;31m         return self._input_request(str(prompt),\n\u001b[0m\u001b[1;32m    852\u001b[0m             \u001b[0mself\u001b[0m\u001b[0;34m.\u001b[0m\u001b[0m_parent_ident\u001b[0m\u001b[0;34m,\u001b[0m\u001b[0;34m\u001b[0m\u001b[0;34m\u001b[0m\u001b[0m\n\u001b[1;32m    853\u001b[0m             \u001b[0mself\u001b[0m\u001b[0;34m.\u001b[0m\u001b[0m_parent_header\u001b[0m\u001b[0;34m,\u001b[0m\u001b[0;34m\u001b[0m\u001b[0;34m\u001b[0m\u001b[0m\n",
            "\u001b[0;32m/usr/local/lib/python3.10/dist-packages/ipykernel/kernelbase.py\u001b[0m in \u001b[0;36m_input_request\u001b[0;34m(self, prompt, ident, parent, password)\u001b[0m\n\u001b[1;32m    893\u001b[0m             \u001b[0;32mexcept\u001b[0m \u001b[0mKeyboardInterrupt\u001b[0m\u001b[0;34m:\u001b[0m\u001b[0;34m\u001b[0m\u001b[0;34m\u001b[0m\u001b[0m\n\u001b[1;32m    894\u001b[0m                 \u001b[0;31m# re-raise KeyboardInterrupt, to truncate traceback\u001b[0m\u001b[0;34m\u001b[0m\u001b[0;34m\u001b[0m\u001b[0m\n\u001b[0;32m--> 895\u001b[0;31m                 \u001b[0;32mraise\u001b[0m \u001b[0mKeyboardInterrupt\u001b[0m\u001b[0;34m(\u001b[0m\u001b[0;34m\"Interrupted by user\"\u001b[0m\u001b[0;34m)\u001b[0m \u001b[0;32mfrom\u001b[0m \u001b[0;32mNone\u001b[0m\u001b[0;34m\u001b[0m\u001b[0;34m\u001b[0m\u001b[0m\n\u001b[0m\u001b[1;32m    896\u001b[0m             \u001b[0;32mexcept\u001b[0m \u001b[0mException\u001b[0m \u001b[0;32mas\u001b[0m \u001b[0me\u001b[0m\u001b[0;34m:\u001b[0m\u001b[0;34m\u001b[0m\u001b[0;34m\u001b[0m\u001b[0m\n\u001b[1;32m    897\u001b[0m                 \u001b[0mself\u001b[0m\u001b[0;34m.\u001b[0m\u001b[0mlog\u001b[0m\u001b[0;34m.\u001b[0m\u001b[0mwarning\u001b[0m\u001b[0;34m(\u001b[0m\u001b[0;34m\"Invalid Message:\"\u001b[0m\u001b[0;34m,\u001b[0m \u001b[0mexc_info\u001b[0m\u001b[0;34m=\u001b[0m\u001b[0;32mTrue\u001b[0m\u001b[0;34m)\u001b[0m\u001b[0;34m\u001b[0m\u001b[0;34m\u001b[0m\u001b[0m\n",
            "\u001b[0;31mKeyboardInterrupt\u001b[0m: Interrupted by user"
          ]
        }
      ],
      "source": [
        "from firebase import firebase\n",
        "FBconn = firebase.FirebaseApplication('https://test1-8bc2b-default-rtdb.europe-west1.firebasedatabase.app',None)\n",
        "while True:\n",
        "  temperature = int (input (\"what is the temperature?\"))\n",
        "  data_to_upload = {\n",
        "      'Temp' : temperature\n",
        "  }\n",
        "  result = FBconn.post('/myTest1/',data_to_upload)\n",
        "  print(result)\n"
      ]
    },
    {
      "cell_type": "code",
      "execution_count": null,
      "metadata": {
        "colab": {
          "base_uri": "https://localhost:8080/"
        },
        "id": "c4WV7eOK6u8N",
        "outputId": "785e0c90-437f-42e1-f546-19be73fc3ae2"
      },
      "outputs": [
        {
          "name": "stdout",
          "output_type": "stream",
          "text": [
            "-NUVlvA_oOwRuTZME2ns:\t {'The question': 'What is print function', 'options': [1, 2, 3, 4], 'question id': '1', 'rightAnswer': '2'}\n",
            "-NUVlxVCzCazqiWLfz39:\t {'The question': 'What is print function', 'options': [1, 2, 3, 4], 'question id': '1', 'rightAnswer': '2'}\n",
            "-NUVlxjfGAle7qC_l7Jb:\t {'The question': 'What is print function', 'options': [1, 2, 3, 4], 'question id': '1', 'rightAnswer': '2'}\n",
            "-NUVlxz1xEZSlwuz3XKV:\t {'The question': 'What is print function', 'options': [1, 2, 3, 4], 'question id': '1', 'rightAnswer': '2'}\n",
            "-NUVlyDMig_cuhj_juEt:\t {'The question': 'What is print function', 'options': [1, 2, 3, 4], 'question id': '1', 'rightAnswer': '2'}\n",
            "-NUVlyI-YigyJcDnlTn_:\t {'The question': 'What is print function', 'options': [1, 2, 3, 4], 'question id': '1', 'rightAnswer': '2'}\n",
            "-NUVlyMlJ1-1WdWt3x7Q:\t {'The question': 'What is print function', 'options': [1, 2, 3, 4], 'question id': '1', 'rightAnswer': '2'}\n",
            "-NUVlyRYNuGp_biwCCZA:\t {'The question': 'What is print function', 'options': [1, 2, 3, 4], 'question id': '1', 'rightAnswer': '2'}\n",
            "-NUVlyWQkaHC28YEFpav:\t {'The question': 'What is print function', 'options': [1, 2, 3, 4], 'question id': '1', 'rightAnswer': '2'}\n",
            "-NUVlyku_x-gK6EgUTEy:\t {'The question': 'What is print function', 'options': [1, 2, 3, 4], 'question id': '1', 'rightAnswer': '2'}\n",
            "-NUVlz-bm3SzJCF-p_Eb:\t {'The question': 'What is print function', 'options': [1, 2, 3, 4], 'question id': '1', 'rightAnswer': '2'}\n",
            "-NUVlz4MMSoDPg6olcyG:\t {'The question': 'What is print function', 'options': [1, 2, 3, 4], 'question id': '1', 'rightAnswer': '2'}\n",
            "-NUVlz94R0INu8jqd-p5:\t {'The question': 'What is print function', 'options': [1, 2, 3, 4], 'question id': '1', 'rightAnswer': '2'}\n",
            "-NUVlzOcLHK6pLTeDCZi:\t {'The question': 'What is print function', 'options': [1, 2, 3, 4], 'question id': '1', 'rightAnswer': '2'}\n",
            "-NUVlzTLc-3Tlhu1sjUl:\t {'The question': 'What is print function', 'options': [1, 2, 3, 4], 'question id': '1', 'rightAnswer': '2'}\n",
            "-NUVlzY3LbtLeu9vba-7:\t {'The question': 'What is print function', 'options': [1, 2, 3, 4], 'question id': '1', 'rightAnswer': '2'}\n",
            "-NUVlzmTWRYtysy1gVLR:\t {'The question': 'What is print function', 'options': [1, 2, 3, 4], 'question id': '1', 'rightAnswer': '2'}\n",
            "-NUVlzr91bHBX3pM9LAI:\t {'The question': 'What is print function', 'options': [1, 2, 3, 4], 'question id': '1', 'rightAnswer': '2'}\n",
            "-NUVlzvr8G_oik6gLy8k:\t {'The question': 'What is print function', 'options': [1, 2, 3, 4], 'question id': '1', 'rightAnswer': '2'}\n",
            "-NUVm--bgU5XJCZ4hL9k:\t {'The question': 'What is print function', 'options': [1, 2, 3, 4], 'question id': '1', 'rightAnswer': '2'}\n",
            "-NUVm-F5arCWk7kRevyb:\t {'The question': 'What is print function', 'options': [1, 2, 3, 4], 'question id': '1', 'rightAnswer': '2'}\n",
            "-NUVm-USdGV-Md8Yrdam:\t {'The question': 'What is print function', 'options': [1, 2, 3, 4], 'question id': '1', 'rightAnswer': '2'}\n",
            "-NUVm-Z8cCiQvbdt0yZl:\t {'The question': 'What is print function', 'options': [1, 2, 3, 4], 'question id': '1', 'rightAnswer': '2'}\n",
            "-NUVm-ct314eiASCiGWZ:\t {'The question': 'What is print function', 'options': [1, 2, 3, 4], 'question id': '1', 'rightAnswer': '2'}\n",
            "-NUVm-hcg5Qj2Bzm8KK0:\t {'The question': 'What is print function', 'options': [1, 2, 3, 4], 'question id': '1', 'rightAnswer': '2'}\n",
            "-NUVm-mKf5HuK5Nm17_-:\t {'The question': 'What is print function', 'options': [1, 2, 3, 4], 'question id': '1', 'rightAnswer': '2'}\n",
            "-NUVm-r7er5lqWzF7DNW:\t {'The question': 'What is print function', 'options': [1, 2, 3, 4], 'question id': '1', 'rightAnswer': '2'}\n",
            "-NUVm-vzY2ZsOw2WCPub:\t {'The question': 'What is print function', 'options': [1, 2, 3, 4], 'question id': '1', 'rightAnswer': '2'}\n",
            "-NUVm0AP3nBPU57xVB7O:\t {'The question': 'What is print function', 'options': [1, 2, 3, 4], 'question id': '1', 'rightAnswer': '2'}\n",
            "-NUVm0F7y5QHqBesH0G4:\t {'The question': 'What is print function', 'options': [1, 2, 3, 4], 'question id': '1', 'rightAnswer': '2'}\n",
            "-NUVm0K0yDbGGXQseFgx:\t {'The question': 'What is print function', 'options': [1, 2, 3, 4], 'question id': '1', 'rightAnswer': '2'}\n",
            "-NUVm0ZX3QRPrJasjP21:\t {'The question': 'What is print function', 'options': [1, 2, 3, 4], 'question id': '1', 'rightAnswer': '2'}\n",
            "-NUVm0o0TNzfrlHg_1tG:\t {'The question': 'What is print function', 'options': [1, 2, 3, 4], 'question id': '1', 'rightAnswer': '2'}\n",
            "-NUVm0sllQE587sYhESI:\t {'The question': 'What is print function', 'options': [1, 2, 3, 4], 'question id': '1', 'rightAnswer': '2'}\n",
            "-NUVm17C4ndf14vdyRUH:\t {'The question': 'What is print function', 'options': [1, 2, 3, 4], 'question id': '1', 'rightAnswer': '2'}\n",
            "-NUVm1CZPcHhfQE4Y3Y6:\t {'The question': 'What is print function', 'options': [1, 2, 3, 4], 'question id': '1', 'rightAnswer': '2'}\n",
            "-NUVm1HGx39B6wnIAjWc:\t {'The question': 'What is print function', 'options': [1, 2, 3, 4], 'question id': '1', 'rightAnswer': '2'}\n",
            "-NUVm1M47n9F_hf2dWpk:\t {'The question': 'What is print function', 'options': [1, 2, 3, 4], 'question id': '1', 'rightAnswer': '2'}\n",
            "-NUVm1QrYgIt0RtCLc_j:\t {'The question': 'What is print function', 'options': [1, 2, 3, 4], 'question id': '1', 'rightAnswer': '2'}\n",
            "-NUVm1V_jsZ0zcMd9bTF:\t {'The question': 'What is print function', 'options': [1, 2, 3, 4], 'question id': '1', 'rightAnswer': '2'}\n",
            "-NUVm1_HcbMe4_MldrHl:\t {'The question': 'What is print function', 'options': [1, 2, 3, 4], 'question id': '1', 'rightAnswer': '2'}\n",
            "-NUVm1ocnRV2qsw2CfwX:\t {'The question': 'What is print function', 'options': [1, 2, 3, 4], 'question id': '1', 'rightAnswer': '2'}\n",
            "-NUVm1tJbNEHlLwqkPst:\t {'The question': 'What is print function', 'options': [1, 2, 3, 4], 'question id': '1', 'rightAnswer': '2'}\n",
            "-NUVm1y3RHNRAQ2vfxY7:\t {'The question': 'What is print function', 'options': [1, 2, 3, 4], 'question id': '1', 'rightAnswer': '2'}\n",
            "-NUVm21j5SrkrzFUBpzf:\t {'The question': 'What is print function', 'options': [1, 2, 3, 4], 'question id': '1', 'rightAnswer': '2'}\n",
            "-NUVm2HBl2lMFtYWUdX0:\t {'The question': 'What is print function', 'options': [1, 2, 3, 4], 'question id': '1', 'rightAnswer': '2'}\n",
            "-NUVm2LvkOdt1x_gwA8A:\t {'The question': 'What is print function', 'options': [1, 2, 3, 4], 'question id': '1', 'rightAnswer': '2'}\n",
            "-NUVm2abb-UVM2VYCLK3:\t {'The question': 'What is print function', 'options': [1, 2, 3, 4], 'question id': '1', 'rightAnswer': '2'}\n",
            "-NUVm2fNTD4KkRBWEC0W:\t {'The question': 'What is print function', 'options': [1, 2, 3, 4], 'question id': '1', 'rightAnswer': '2'}\n",
            "-NUVm2k6Z8t7eLaU35zh:\t {'The question': 'What is print function', 'options': [1, 2, 3, 4], 'question id': '1', 'rightAnswer': '2'}\n",
            "-NUVm2zZ070viIJnZS5O:\t {'The question': 'What is print function', 'options': [1, 2, 3, 4], 'question id': '1', 'rightAnswer': '2'}\n",
            "-NUVm3E0hPrV7ZOwylHG:\t {'The question': 'What is print function', 'options': [1, 2, 3, 4], 'question id': '1', 'rightAnswer': '2'}\n",
            "-NUVm3Tojs_owVph63iz:\t {'The question': 'What is print function', 'options': [1, 2, 3, 4], 'question id': '1', 'rightAnswer': '2'}\n",
            "-NUVm3Yfavg_BfKKjrTH:\t {'The question': 'What is print function', 'options': [1, 2, 3, 4], 'question id': '1', 'rightAnswer': '2'}\n",
            "-NUVm3nBm7wkxwS1SY3U:\t {'The question': 'What is print function', 'options': [1, 2, 3, 4], 'question id': '1', 'rightAnswer': '2'}\n",
            "-NUVm3rz0VuP2NVmLqYD:\t {'The question': 'What is print function', 'options': [1, 2, 3, 4], 'question id': '1', 'rightAnswer': '2'}\n",
            "-NUVm3wfwlw4R_DqZHiI:\t {'The question': 'What is print function', 'options': [1, 2, 3, 4], 'question id': '1', 'rightAnswer': '2'}\n",
            "-NUVm40QH4VRc6urJM9C:\t {'The question': 'What is print function', 'options': [1, 2, 3, 4], 'question id': '1', 'rightAnswer': '2'}\n",
            "-NUVm458QkSH9U7saSRb:\t {'The question': 'What is print function', 'options': [1, 2, 3, 4], 'question id': '1', 'rightAnswer': '2'}\n",
            "-NUVm49wNH_pbcYwjPFm:\t {'The question': 'What is print function', 'options': [1, 2, 3, 4], 'question id': '1', 'rightAnswer': '2'}\n",
            "-NUVm4PJJ8IjDaYMnz5S:\t {'The question': 'What is print function', 'options': [1, 2, 3, 4], 'question id': '1', 'rightAnswer': '2'}\n",
            "-NUVm4doG6NNKLbYiQZ7:\t {'The question': 'What is print function', 'options': [1, 2, 3, 4], 'question id': '1', 'rightAnswer': '2'}\n",
            "-NUVm4iUmmsvz4WT1O2N:\t {'The question': 'What is print function', 'options': [1, 2, 3, 4], 'question id': '1', 'rightAnswer': '2'}\n",
            "-NUVm4xoZjHO2LC3s-EW:\t {'The question': 'What is print function', 'options': [1, 2, 3, 4], 'question id': '1', 'rightAnswer': '2'}\n",
            "-NUVm51X7AbMrkdI3EbP:\t {'The question': 'What is print function', 'options': [1, 2, 3, 4], 'question id': '1', 'rightAnswer': '2'}\n"
          ]
        }
      ],
      "source": [
        "import json\n",
        "from firebase import firebase\n",
        "FBconn = firebase.FirebaseApplication('https://test1-8bc2b-default-rtdb.europe-west1.firebasedatabase.app',None)\n",
        "res=FBconn.get('/questions/',None)\n",
        "\n",
        "for key in res:\n",
        "    print(key+\":\\t\", res[key])\n"
      ]
    },
    {
      "cell_type": "code",
      "execution_count": null,
      "metadata": {
        "colab": {
          "background_save": true,
          "base_uri": "https://localhost:8080/"
        },
        "id": "3p83gtmTmxjY",
        "outputId": "8b6d805c-5e88-429f-ba7b-54c2969ff7c8"
      },
      "outputs": [
        {
          "name": "stdout",
          "output_type": "stream",
          "text": [
            "\n",
            "Temperature Tracker Menu:\n",
            "1. Add new temperature\n",
            "2. Update existing temperature\n",
            "3. Delete temperature record\n",
            "4. View all records\n",
            "5. Exit\n",
            "Temperature added successfully! Record ID: -ODpChZIh8J2Tsnc8aQ9\n",
            "\n",
            "Temperature Tracker Menu:\n",
            "1. Add new temperature\n",
            "2. Update existing temperature\n",
            "3. Delete temperature record\n",
            "4. View all records\n",
            "5. Exit\n",
            "\n",
            "Current Records:\n",
            "ID: -ODfLxLiREIu0EHwNTKc - Temperature: 3°C\n",
            "ID: -ODffAWAYbJQVAxM7WTy - Temperature: 2°C\n",
            "ID: -ODfh-pdo2ZojiAvvZCK - Temperature: 56°C\n",
            "ID: -ODfpn59Mz1mwfve9FR1 - Temperature: 22°C\n",
            "ID: -ODfuzmBD0xJWG6fGdQr - Temperature: 30°C\n",
            "ID: -ODfwbYzb6PVIdxXOHFd - Temperature: 33°C\n",
            "ID: -ODpChZIh8J2Tsnc8aQ9 - Temperature: 57°C\n",
            "ID: 5\\ - Temperature: 5°C\n",
            "\n",
            "Temperature Tracker Menu:\n",
            "1. Add new temperature\n",
            "2. Update existing temperature\n",
            "3. Delete temperature record\n",
            "4. View all records\n",
            "5. Exit\n",
            "\n",
            "Current Records:\n",
            "ID: -ODfLxLiREIu0EHwNTKc - Temperature: 3°C\n",
            "ID: -ODffAWAYbJQVAxM7WTy - Temperature: 2°C\n",
            "ID: -ODfh-pdo2ZojiAvvZCK - Temperature: 56°C\n",
            "ID: -ODfpn59Mz1mwfve9FR1 - Temperature: 22°C\n",
            "ID: -ODfuzmBD0xJWG6fGdQr - Temperature: 30°C\n",
            "ID: -ODfwbYzb6PVIdxXOHFd - Temperature: 33°C\n",
            "ID: -ODpChZIh8J2Tsnc8aQ9 - Temperature: 57°C\n",
            "ID: 5\\ - Temperature: 5°C\n",
            "Record deleted successfully!\n",
            "\n",
            "Temperature Tracker Menu:\n",
            "1. Add new temperature\n",
            "2. Update existing temperature\n",
            "3. Delete temperature record\n",
            "4. View all records\n",
            "5. Exit\n",
            "\n",
            "Current Records:\n",
            "ID: -ODfLxLiREIu0EHwNTKc - Temperature: 3°C\n",
            "ID: -ODffAWAYbJQVAxM7WTy - Temperature: 2°C\n",
            "ID: -ODfh-pdo2ZojiAvvZCK - Temperature: 56°C\n",
            "ID: -ODfpn59Mz1mwfve9FR1 - Temperature: 22°C\n",
            "ID: -ODfuzmBD0xJWG6fGdQr - Temperature: 30°C\n",
            "ID: -ODfwbYzb6PVIdxXOHFd - Temperature: 33°C\n",
            "ID: -ODpChZIh8J2Tsnc8aQ9 - Temperature: 57°C\n",
            "\n",
            "Temperature Tracker Menu:\n",
            "1. Add new temperature\n",
            "2. Update existing temperature\n",
            "3. Delete temperature record\n",
            "4. View all records\n",
            "5. Exit\n",
            "\n",
            "Current Records:\n",
            "ID: -ODfLxLiREIu0EHwNTKc - Temperature: 3°C\n",
            "ID: -ODffAWAYbJQVAxM7WTy - Temperature: 2°C\n",
            "ID: -ODfh-pdo2ZojiAvvZCK - Temperature: 56°C\n",
            "ID: -ODfpn59Mz1mwfve9FR1 - Temperature: 22°C\n",
            "ID: -ODfuzmBD0xJWG6fGdQr - Temperature: 30°C\n",
            "ID: -ODfwbYzb6PVIdxXOHFd - Temperature: 33°C\n",
            "ID: -ODpChZIh8J2Tsnc8aQ9 - Temperature: 57°C\n",
            "ID: -ODpDUGe9Dwgv8scbIlj - Temperature: 48°C\n",
            "Temperature updated successfully!\n",
            "\n",
            "Temperature Tracker Menu:\n",
            "1. Add new temperature\n",
            "2. Update existing temperature\n",
            "3. Delete temperature record\n",
            "4. View all records\n",
            "5. Exit\n",
            "\n",
            "Current Records:\n",
            "ID: -ODfLxLiREIu0EHwNTKc - Temperature: 3°C\n",
            "ID: -ODffAWAYbJQVAxM7WTy - Temperature: 2°C\n",
            "ID: -ODfh-pdo2ZojiAvvZCK - Temperature: 56°C\n",
            "ID: -ODfpn59Mz1mwfve9FR1 - Temperature: 99°C\n",
            "ID: -ODfuzmBD0xJWG6fGdQr - Temperature: 30°C\n",
            "ID: -ODfwbYzb6PVIdxXOHFd - Temperature: 33°C\n",
            "ID: -ODpChZIh8J2Tsnc8aQ9 - Temperature: 57°C\n",
            "ID: -ODpDUGe9Dwgv8scbIlj - Temperature: 48°C\n",
            "\n",
            "Temperature Tracker Menu:\n",
            "1. Add new temperature\n",
            "2. Update existing temperature\n",
            "3. Delete temperature record\n",
            "4. View all records\n",
            "5. Exit\n",
            "\n",
            "Current Records:\n",
            "ID: -ODfLxLiREIu0EHwNTKc - Temperature: 3°C\n",
            "ID: -ODffAWAYbJQVAxM7WTy - Temperature: 2°C\n",
            "ID: -ODfh-pdo2ZojiAvvZCK - Temperature: 56°C\n",
            "ID: -ODfpn59Mz1mwfve9FR1 - Temperature: 99°C\n",
            "ID: -ODfuzmBD0xJWG6fGdQr - Temperature: 30°C\n",
            "ID: -ODfwbYzb6PVIdxXOHFd - Temperature: 33°C\n",
            "ID: -ODpChZIh8J2Tsnc8aQ9 - Temperature: 57°C\n",
            "ID: -ODpDUGe9Dwgv8scbIlj - Temperature: 48°C\n",
            "Temperature updated successfully!\n",
            "\n",
            "Temperature Tracker Menu:\n",
            "1. Add new temperature\n",
            "2. Update existing temperature\n",
            "3. Delete temperature record\n",
            "4. View all records\n",
            "5. Exit\n",
            "\n",
            "Current Records:\n",
            "ID: -ODfLxLiREIu0EHwNTKc - Temperature: 3°C\n",
            "ID: -ODffAWAYbJQVAxM7WTy - Temperature: 2°C\n",
            "ID: -ODfh-pdo2ZojiAvvZCK - Temperature: 56°C\n",
            "ID: -ODfpn59Mz1mwfve9 - Temperature: 22°C\n",
            "ID: -ODfpn59Mz1mwfve9FR1 - Temperature: 99°C\n",
            "ID: -ODfuzmBD0xJWG6fGdQr - Temperature: 30°C\n",
            "ID: -ODfwbYzb6PVIdxXOHFd - Temperature: 33°C\n",
            "ID: -ODpChZIh8J2Tsnc8aQ9 - Temperature: 57°C\n",
            "ID: -ODpDUGe9Dwgv8scbIlj - Temperature: 48°C\n",
            "\n",
            "Temperature Tracker Menu:\n",
            "1. Add new temperature\n",
            "2. Update existing temperature\n",
            "3. Delete temperature record\n",
            "4. View all records\n",
            "5. Exit\n"
          ]
        }
      ],
      "source": [
        "from firebase import firebase\n",
        "import time\n",
        "\n",
        "# Initialize Firebase connection\n",
        "FBconn = firebase.FirebaseApplication('https://test1-8bc2b-default-rtdb.europe-west1.firebasedatabase.app', None)\n",
        "\n",
        "def get_all_records():\n",
        "    \"\"\"Retrieve all temperature records\"\"\"\n",
        "    return FBconn.get('/Temperatures/', None)\n",
        "\n",
        "def update_temperature(record_id, new_temp):\n",
        "    \"\"\"Update an existing temperature record\"\"\"\n",
        "    return FBconn.put('/Temperatures/' + record_id, 'Temp', new_temp)\n",
        "\n",
        "def delete_record(record_id):\n",
        "    \"\"\"Delete a temperature record\"\"\"\n",
        "    return FBconn.delete('/Temperatures/', record_id)\n",
        "\n",
        "def display_records():\n",
        "    \"\"\"Display all temperature records\"\"\"\n",
        "    records = get_all_records()\n",
        "    if records:\n",
        "        print(\"\\nCurrent Records:\")\n",
        "        for record_id, data in records.items():\n",
        "            print(f\"ID: {record_id} - Temperature: {data['Temp']}°C\")\n",
        "    else:\n",
        "        print(\"\\nNo records found\")\n",
        "\n",
        "while True:\n",
        "    print(\"\\nTemperature Tracker Menu:\")\n",
        "    print(\"1. Add new temperature\")\n",
        "    print(\"2. Update existing temperature\")\n",
        "    print(\"3. Delete temperature record\")\n",
        "    print(\"4. View all records\")\n",
        "    print(\"5. Exit\")\n",
        "\n",
        "    choice = input(\"\\nEnter your choice (1-5): \")\n",
        "\n",
        "    if choice == '1':\n",
        "        # Add new temperature\n",
        "        try:\n",
        "            temperature = int(input(\"What is the temperature? \"))\n",
        "            data_to_upload = {\n",
        "                'Temp': temperature,\n",
        "                'timestamp': time.time()  # Adding timestamp for better tracking\n",
        "            }\n",
        "            result = FBconn.post('/Temperatures/', data_to_upload)\n",
        "            print(f\"Temperature added successfully! Record ID: {result['name']}\")\n",
        "        except ValueError:\n",
        "            print(\"Please enter a valid number for temperature\")\n",
        "\n",
        "    elif choice == '2':\n",
        "        # Update existing temperature\n",
        "        display_records()\n",
        "        record_id = input(\"\\nEnter the record ID to update: \")\n",
        "        try:\n",
        "            new_temp = int(input(\"Enter the new temperature: \"))\n",
        "            result = update_temperature(record_id, new_temp)\n",
        "            if result:\n",
        "                print(\"Temperature updated successfully!\")\n",
        "            else:\n",
        "                print(\"Failed to update temperature. Check if the ID exists.\")\n",
        "        except ValueError:\n",
        "            print(\"Please enter a valid number for temperature\")\n",
        "\n",
        "    elif choice == '3':\n",
        "        # Delete temperature record\n",
        "        display_records()\n",
        "        record_id = input(\"\\nEnter the record ID to delete: \")\n",
        "        result = delete_record(record_id)\n",
        "        if result is None:\n",
        "            print(\"Record deleted successfully!\")\n",
        "        else:\n",
        "            print(\"Failed to delete record. Check if the ID exists.\")\n",
        "\n",
        "    elif choice == '4':\n",
        "        # View all records\n",
        "        display_records()\n",
        "\n",
        "    elif choice == '5':\n",
        "        print(\"Exiting program...\")\n",
        "        break\n",
        "\n",
        "    else:\n",
        "        print(\"Invalid choice. Please try again.\")\n"
      ]
    },
    {
      "cell_type": "code",
      "execution_count": null,
      "metadata": {
        "id": "2bjm3SEh8A4x"
      },
      "outputs": [],
      "source": []
    },
    {
      "cell_type": "code",
      "execution_count": null,
      "metadata": {
        "id": "-nvlyPJX0p05"
      },
      "outputs": [],
      "source": [
        "from IPython.display import HTML\n",
        "from google.colab.output import _publish as publish\n",
        "publish.css(\"b {color: blue}\")\n",
        "HTML(\"Now <b>bold</b> and <b>blue</b> too.\")\n",
        "\n"
      ]
    },
    {
      "cell_type": "code",
      "execution_count": null,
      "metadata": {
        "colab": {
          "base_uri": "https://localhost:8080/",
          "height": 818
        },
        "id": "1TVbCuwL09Tj",
        "outputId": "884c68d2-577e-4265-cd14-6a51d9ab3787"
      },
      "outputs": [
        {
          "data": {
            "text/html": [
              "\n",
              "<p>Now this is <i>really</i> awesome!</p>\n",
              "<img src='https://upload.wikimedia.org/wikipedia/commons/thumb/0/0a/Python.svg/768px-Python.svg.png'></img>\n"
            ],
            "text/plain": [
              "<IPython.core.display.HTML object>"
            ]
          },
          "metadata": {},
          "output_type": "display_data"
        }
      ],
      "source": [
        " import IPython\n",
        "\n",
        "html_code = \\\n",
        "'''\n",
        "<p>Now this is <i>really</i> awesome!</p>\n",
        "<img src='https://upload.wikimedia.org/wikipedia/commons/thumb/0/0a/Python.svg/768px-Python.svg.png'></img>\n",
        "'''\n",
        "\n",
        "\n",
        "display(IPython.display.HTML(html_code))\n",
        "\n"
      ]
    },
    {
      "cell_type": "code",
      "execution_count": null,
      "metadata": {
        "colab": {
          "base_uri": "https://localhost:8080/",
          "height": 34
        },
        "id": "KrPE2Z4H1D8T",
        "outputId": "fddd60a1-6b78-4fd6-db42-9c6565131e89"
      },
      "outputs": [
        {
          "data": {
            "application/javascript": [
              "\n",
              "document.querySelector(\"#output-area\").appendChild(document.createTextNode(\"hello world!\"));\n"
            ],
            "text/plain": [
              "<IPython.core.display.Javascript object>"
            ]
          },
          "metadata": {},
          "output_type": "display_data"
        }
      ],
      "source": [
        "import IPython\n",
        "js_code = '''\n",
        "document.querySelector(\"#output-area\").appendChild(document.createTextNode(\"hello world!\"));\n",
        "'''\n",
        "display(IPython.display.Javascript(js_code))\n",
        "\n"
      ]
    },
    {
      "cell_type": "code",
      "execution_count": null,
      "metadata": {
        "colab": {
          "base_uri": "https://localhost:8080/",
          "height": 118
        },
        "id": "RA0RbPSx1KGr",
        "outputId": "68a28063-2949-4541-c853-abcdb32abf74"
      },
      "outputs": [
        {
          "data": {
            "text/html": [
              "\n",
              "    The items:\n",
              "    <br><ol id=\"items\"></ol>\n",
              "    <button id='button'>Click to add</button>\n",
              "    <script>\n",
              "      document.querySelector('#button').onclick = () => {\n",
              "        google.colab.kernel.invokeFunction('notebook.AddListItem', [], {});\n",
              "      };\n",
              "    </script>\n",
              "    "
            ],
            "text/plain": [
              "<IPython.core.display.HTML object>"
            ]
          },
          "metadata": {},
          "output_type": "display_data"
        },
        {
          "data": {
            "application/javascript": [
              "window[\"c64235bc-b748-11ef-9a4e-0242ac1c000c\"] = google.colab.output.getActiveOutputArea();\n",
              "//# sourceURL=js_23a705125c"
            ],
            "text/plain": [
              "<IPython.core.display.Javascript object>"
            ]
          },
          "metadata": {},
          "output_type": "display_data"
        },
        {
          "data": {
            "application/javascript": [
              "window[\"c6429bec-b748-11ef-9a4e-0242ac1c000c\"] = document.querySelector(\"#items\");\n",
              "//# sourceURL=js_c9c8413605"
            ],
            "text/plain": [
              "<IPython.core.display.Javascript object>"
            ]
          },
          "metadata": {},
          "output_type": "display_data"
        },
        {
          "data": {
            "application/javascript": [
              "window[\"c64360ae-b748-11ef-9a4e-0242ac1c000c\"] = google.colab.output.setActiveOutputArea(window[\"c6429bec-b748-11ef-9a4e-0242ac1c000c\"]);\n",
              "//# sourceURL=js_152e557c74"
            ],
            "text/plain": [
              "<IPython.core.display.Javascript object>"
            ]
          },
          "metadata": {},
          "output_type": "display_data"
        },
        {
          "data": {
            "text/html": [
              "<li> Another item</li>"
            ],
            "text/plain": [
              "<IPython.core.display.HTML object>"
            ]
          },
          "metadata": {},
          "output_type": "display_data"
        },
        {
          "data": {
            "application/javascript": [
              "window[\"c643fea6-b748-11ef-9a4e-0242ac1c000c\"] = google.colab.output.setActiveOutputArea(window[\"c64235bc-b748-11ef-9a4e-0242ac1c000c\"]);\n",
              "//# sourceURL=js_0b5f71fd70"
            ],
            "text/plain": [
              "<IPython.core.display.Javascript object>"
            ]
          },
          "metadata": {},
          "output_type": "display_data"
        },
        {
          "data": {
            "application/javascript": [
              "window[\"c773f36c-b748-11ef-9a4e-0242ac1c000c\"] = google.colab.output.getActiveOutputArea();\n",
              "//# sourceURL=js_d59b1ec10b"
            ],
            "text/plain": [
              "<IPython.core.display.Javascript object>"
            ]
          },
          "metadata": {},
          "output_type": "display_data"
        },
        {
          "data": {
            "application/javascript": [
              "window[\"c7745d70-b748-11ef-9a4e-0242ac1c000c\"] = document.querySelector(\"#items\");\n",
              "//# sourceURL=js_8ae6fee898"
            ],
            "text/plain": [
              "<IPython.core.display.Javascript object>"
            ]
          },
          "metadata": {},
          "output_type": "display_data"
        },
        {
          "data": {
            "application/javascript": [
              "window[\"c774ddd6-b748-11ef-9a4e-0242ac1c000c\"] = google.colab.output.setActiveOutputArea(window[\"c7745d70-b748-11ef-9a4e-0242ac1c000c\"]);\n",
              "//# sourceURL=js_5704a6caff"
            ],
            "text/plain": [
              "<IPython.core.display.Javascript object>"
            ]
          },
          "metadata": {},
          "output_type": "display_data"
        },
        {
          "data": {
            "text/html": [
              "<li> Another item</li>"
            ],
            "text/plain": [
              "<IPython.core.display.HTML object>"
            ]
          },
          "metadata": {},
          "output_type": "display_data"
        },
        {
          "data": {
            "application/javascript": [
              "window[\"c775cf98-b748-11ef-9a4e-0242ac1c000c\"] = google.colab.output.setActiveOutputArea(window[\"c773f36c-b748-11ef-9a4e-0242ac1c000c\"]);\n",
              "//# sourceURL=js_811ca4eade"
            ],
            "text/plain": [
              "<IPython.core.display.Javascript object>"
            ]
          },
          "metadata": {},
          "output_type": "display_data"
        }
      ],
      "source": [
        "import IPython\n",
        "from google.colab import output\n",
        "\n",
        "display(IPython.display.HTML('''\n",
        "    The items:\n",
        "    <br><ol id=\"items\"></ol>\n",
        "    <button id='button'>Click to add</button>\n",
        "    <script>\n",
        "      document.querySelector('#button').onclick = () => {\n",
        "        google.colab.kernel.invokeFunction('notebook.AddListItem', [], {});\n",
        "      };\n",
        "    </script>\n",
        "    '''))\n",
        "\n",
        "def add_list_item():\n",
        "  # Use redirect_to_element to direct the elements which are being written.\n",
        "  with output.redirect_to_element('#items'):\n",
        "    # Use display to add items which will be persisted on notebook reload.\n",
        "    display(IPython.display.HTML('<li> Another item</li>'))\n",
        "\n",
        "output.register_callback('notebook.AddListItem', add_list_item)\n",
        "\n"
      ]
    },
    {
      "cell_type": "code",
      "execution_count": null,
      "metadata": {
        "id": "_ydU9Uet1M8M"
      },
      "outputs": [],
      "source": [
        "import IPython\n",
        "import uuid\n",
        "from google.colab import output\n",
        "\n",
        "class InvokeButton(object):\n",
        "  def __init__(self, title, callback):\n",
        "    self._title = title\n",
        "    self._callback = callback\n",
        "\n",
        "  def _repr_html_(self):\n",
        "    callback_id = 'button-' + str(uuid.uuid4())\n",
        "    output.register_callback(callback_id, self._callback)\n",
        "\n",
        "    template = \"\"\"<button id=\"{callback_id}\">{title}</button>\n",
        "        <script>\n",
        "          document.querySelector(\"#{callback_id}\").onclick = (e) => {{\n",
        "            google.colab.kernel.invokeFunction('{callback_id}', [], {{}})\n",
        "            e.preventDefault();\n",
        "          }};\n",
        "        </script>\"\"\"\n",
        "    html = template.format(title=self._title, callback_id=callback_id)\n",
        "    return html\n",
        "\n",
        "def do_something():\n",
        "  print('here')\n",
        "\n",
        "InvokeButton('click me', do_something)\n",
        "\n"
      ]
    },
    {
      "cell_type": "code",
      "execution_count": null,
      "metadata": {
        "id": "w52NFF5a1VIr"
      },
      "outputs": [],
      "source": [
        "import altair as alt\n",
        "import ipywidgets as widgets\n",
        "from vega_datasets import data\n",
        "\n",
        "source = data.stocks()\n",
        "\n",
        "stock_picker = widgets.SelectMultiple(\n",
        "    options=source.symbol.unique(),\n",
        "    value=list(source.symbol.unique()),\n",
        "    description='Symbols')\n",
        "\n",
        "# The value of symbols will come from the stock_picker.\n",
        "@widgets.interact(symbols=stock_picker)\n",
        "def render(symbols):\n",
        "  selected = source[source.symbol.isin(list(symbols))]\n",
        "\n",
        "  return alt.Chart(selected).mark_line().encode(\n",
        "      x='date',\n",
        "      y='price',\n",
        "      color='symbol',\n",
        "      strokeDash='symbol',\n",
        "  )\n",
        "\n"
      ]
    },
    {
      "cell_type": "code",
      "execution_count": null,
      "metadata": {
        "id": "rg1kD59t-VyE"
      },
      "outputs": [],
      "source": [
        "from IPython.display import display, Javascript\n",
        "from google.colab.output import eval_js\n",
        "from base64 import b64decode\n",
        "\n",
        "def take_photo(filename='photo.jpg', quality=0.8):\n",
        "  js = Javascript('''\n",
        "    async function takePhoto(quality) {\n",
        "      const div = document.createElement('div');\n",
        "      const capture = document.createElement('button');\n",
        "      capture.textContent = 'Capture';\n",
        "      div.appendChild(capture);\n",
        "\n",
        "      const video = document.createElement('video');\n",
        "      video.style.display = 'block';\n",
        "      const stream = await navigator.mediaDevices.getUserMedia({video: true});\n",
        "\n",
        "      document.body.appendChild(div);\n",
        "      div.appendChild(video);\n",
        "      video.srcObject = stream;\n",
        "      await video.play();\n",
        "\n",
        "      // Resize the output to fit the video element.\n",
        "      google.colab.output.setIframeHeight(document.documentElement.scrollHeight, true);\n",
        "\n",
        "      // Wait for Capture to be clicked.\n",
        "      await new Promise((resolve) => capture.onclick = resolve);\n",
        "\n",
        "      const canvas = document.createElement('canvas');\n",
        "      canvas.width = video.videoWidth;\n",
        "      canvas.height = video.videoHeight;\n",
        "      canvas.getContext('2d').drawImage(video, 0, 0);\n",
        "      stream.getVideoTracks()[0].stop();\n",
        "      div.remove();\n",
        "      return canvas.toDataURL('image/jpeg', quality);\n",
        "    }\n",
        "    ''')\n",
        "  display(js)\n",
        "  data = eval_js('takePhoto({})'.format(quality))\n",
        "  binary = b64decode(data.split(',')[1])\n",
        "  with open(filename, 'wb') as f:\n",
        "    f.write(binary)\n",
        "  return filename\n",
        "\n",
        "from IPython.display import Image\n",
        "try:\n",
        "  filename = take_photo()\n",
        "  print('Saved to {}'.format(filename))\n",
        "\n",
        "  # Show the image which was just taken.\n",
        "  display(Image(filename))\n",
        "except Exception as err:\n",
        "  # Errors will be thrown if the user does not have a webcam or if they do not\n",
        "  # grant the page permission to access it.\n",
        "  print(str(err))\n"
      ]
    },
    {
      "cell_type": "code",
      "execution_count": null,
      "metadata": {
        "id": "wSytnHqu1PkU"
      },
      "outputs": [],
      "source": [
        "import ipywidgets as widgets\n",
        "\n",
        "slider = widgets.IntSlider(20, min=0, max=100)\n",
        "slider\n",
        "\n"
      ]
    }
  ],
  "metadata": {
    "colab": {
      "provenance": []
    },
    "kernelspec": {
      "display_name": "Python 3",
      "name": "python3"
    },
    "language_info": {
      "name": "python"
    }
  },
  "nbformat": 4,
  "nbformat_minor": 0
}